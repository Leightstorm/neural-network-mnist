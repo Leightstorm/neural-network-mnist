{
 "cells": [
  {
   "cell_type": "markdown",
   "metadata": {},
   "source": [
    "# 1. Постановка задачи\n",
    "\n",
    "> - Создать нейронную сеть, способную распознавать рукописные цифры.\n",
    "> - Сравненить быстродействия свёрточной нейронной сети (CNN) c использованием библотеки Keras и нейронной сети без использования библиотек.\n",
    "\n",
    "# 2. Краткое описание алгоритма:\n",
    ">Алгоритм получает на вход изображение и должен распознать, что на нём за цифра. С точки зрения машинного обучения - это задача классификации. У нас есть 10 классов объектов, цифры от 0 до 9 и нехобходимо отнести изображение, которые поступают на вход к одному из этих классов.\n",
    "\n",
    "## 3. Общие сведения о MNIST\n",
    "\n",
    ">### Открытый набор данных\n",
    "- http://yann.lecun.com/exdb/mnist\n",
    "- 60 тысяч изображений рукописных цифр\n",
    "\n",
    ">### Два файла\n",
    "- Файл с изображениями\n",
    "- Файл с метками классов (правильными ответами)\n",
    "\n",
    ">### Формат изображение\n",
    "- Размер 28x28 пикселей\n",
    "- Оттенки серого (0 - белый цвет, 255 - черный)\n",
    "- Изображение в бинарном виде записаны в один файл\n",
    "\n",
    "### Справка\n",
    ">Ян Лекун в своей работе 1989г. подготовил набор данных (Dataset) MNIST в котором содрежится большое количество  образцов написания рукописных цифр.\n",
    "Каждая цифра содержится в отдельном изображении. \n",
    "\n",
    ">Пример : ![220px-MnistExamples.png](attachment:220px-MnistExamples.png)"
   ]
  },
  {
   "cell_type": "code",
   "execution_count": null,
   "metadata": {},
   "outputs": [],
   "source": [
    "import numpy\n",
    "from keras.datasets import mnist\n",
    "from keras.models import Sequential\n",
    "from keras.layers import Dense\n",
    "from keras.utils import np_utils\n",
    "import time"
   ]
  },
  {
   "cell_type": "markdown",
   "metadata": {},
   "source": [
    "### Инициализируем Свёрточную Нейронную Сеть"
   ]
  },
  {
   "cell_type": "code",
   "execution_count": null,
   "metadata": {},
   "outputs": [],
   "source": [
    "# Устанавливаем seed для повторяемости результатов\n",
    "numpy.random.seed(42)\n",
    "\n",
    "# Загружаем данные\n",
    "(X_train, y_train), (X_test, y_test) = mnist.load_data()\n",
    "\n",
    "# Преобразование размерности изображений\n",
    "X_train = X_train.reshape(60000, 784)\n",
    "X_test = X_test.reshape(10000, 784)\n",
    "# Нормализация данных\n",
    "X_train = X_train.astype('float32')\n",
    "X_test = X_test.astype('float32')\n",
    "X_train /= 255\n",
    "X_test /= 255\n",
    "\n",
    "# Преобразуем метки в категории\n",
    "Y_train = np_utils.to_categorical(y_train, 10)\n",
    "Y_test = np_utils.to_categorical(y_test, 10)"
   ]
  },
  {
   "cell_type": "markdown",
   "metadata": {},
   "source": [
    "### Создаем последовательную модель"
   ]
  },
  {
   "cell_type": "code",
   "execution_count": null,
   "metadata": {},
   "outputs": [],
   "source": [
    "model = Sequential()\n",
    "\n",
    "# Добавляем уровни сети\n",
    "model.add(Dense(800, input_dim=784, activation=\"relu\", kernel_initializer=\"normal\"))\n",
    "model.add(Dense(10, activation=\"softmax\", kernel_initializer=\"normal\"))"
   ]
  },
  {
   "cell_type": "markdown",
   "metadata": {},
   "source": [
    "### Компилируем модель"
   ]
  },
  {
   "cell_type": "code",
   "execution_count": null,
   "metadata": {},
   "outputs": [],
   "source": [
    "model.compile(loss=\"categorical_crossentropy\", optimizer=\"SGD\", metrics=[\"accuracy\"])\n",
    "print(model.summary())"
   ]
  },
  {
   "cell_type": "markdown",
   "metadata": {},
   "source": [
    "### Обучаем сеть"
   ]
  },
  {
   "cell_type": "code",
   "execution_count": null,
   "metadata": {},
   "outputs": [],
   "source": [
    "start_time = time.time()\n",
    "model.fit(X_train, Y_train, batch_size=200, epochs=5, validation_split=0.2, verbose=2)"
   ]
  },
  {
   "cell_type": "markdown",
   "metadata": {},
   "source": [
    "### Оцениваем качество обучения сети на тестовых данных"
   ]
  },
  {
   "cell_type": "code",
   "execution_count": null,
   "metadata": {},
   "outputs": [],
   "source": [
    "scores = model.evaluate(X_test, Y_test, verbose=0)\n",
    "print(\"Точность работы на тестовых данных: %.2f%%\" % (scores[1]*100))\n",
    "print(\"--- %s seconds ---\" % (time.time() - start_time))"
   ]
  }
 ],
 "metadata": {
  "kernelspec": {
   "display_name": "Python 3",
   "language": "python",
   "name": "python3"
  },
  "language_info": {
   "codemirror_mode": {
    "name": "ipython",
    "version": 3
   },
   "file_extension": ".py",
   "mimetype": "text/x-python",
   "name": "python",
   "nbconvert_exporter": "python",
   "pygments_lexer": "ipython3",
   "version": "3.7.0"
  }
 },
 "nbformat": 4,
 "nbformat_minor": 2
}
