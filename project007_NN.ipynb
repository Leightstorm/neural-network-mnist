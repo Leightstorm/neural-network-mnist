{
 "cells": [
  {
   "cell_type": "markdown",
   "metadata": {},
   "source": [
    "# 1. Постановка задачи\n",
    "\n",
    "> - Создать нейронную сеть, способную распознавать рукописные цифры.\n",
    "> - Сравненить быстродействия свёрточной нейронной сети (CNN) c использованием библотеки Keras и нейронной сети без использования библиотек.\n",
    "\n",
    "# 2. Краткое описание алгоритма:\n",
    ">Алгоритм получает на вход изображение и должен распознать, что на нём за цифра. С точки зрения машинного обучения - это задача классификации. У нас есть 10 классов объектов, цифры от 0 до 9 и нехобходимо отнести изображение, которые поступают на вход к одному из этих классов.\n",
    "\n",
    "## 3. Общие сведения о MNIST\n",
    "\n",
    ">### Открытый набор данных\n",
    "- http://yann.lecun.com/exdb/mnist\n",
    "- 60 тысяч изображений рукописных цифр\n",
    "\n",
    ">### Два файла\n",
    "- Файл с изображениями\n",
    "- Файл с метками классов (правильными ответами)\n",
    "\n",
    ">### Формат изображение\n",
    "- Размер 28x28 пикселей\n",
    "- Оттенки серого (0 - белый цвет, 255 - черный)\n",
    "- Изображение в бинарном виде записаны в один файл\n",
    "\n",
    "### Справка\n",
    ">Ян Лекун в своей работе 1989г. подготовил набор данных (Dataset) MNIST в котором содрежится большое количество  образцов написания рукописных цифр.\n",
    "Каждая цифра содержится в отдельном изображении. \n",
    "\n",
    ">Пример : ![220px-MnistExamples.png](attachment:220px-MnistExamples.png)"
   ]
  },
  {
   "cell_type": "code",
   "execution_count": 1,
   "metadata": {},
   "outputs": [],
   "source": [
    "import numpy\n",
    "import scipy.special\n",
    "import matplotlib.pyplot\n",
    "%matplotlib inline"
   ]
  },
  {
   "cell_type": "markdown",
   "metadata": {},
   "source": [
    "## Класс нейронной сети или её \"костяк\", которая состоит из:\n",
    "- Инициализации - задание количество входных, скрытых и выходных узлов\n",
    "- Тренировки - уточнение весовых коэффициентов в процессе обработки предоставленных для обучения сети тренировочных примеров\n",
    "- Опроса - получение значений сигналов с выходных узлов после предоставления значений входящих сигналов"
   ]
  },
  {
   "cell_type": "markdown",
   "metadata": {},
   "source": [
    "## Инициализация NN:\n",
    "Здесь мы задаём количество входных, скрытых и выходных слоёв, а так коэффициент обучения и генерируем случайные значения весов\n",
    "\n",
    "## Опрос NN:\n",
    "Функция query() принимает в качестве аргумента входные данные нейронной сети и возрващает её выходные данные. Для этого нам нужно передать сигналы от узлов входного слоя через скрктый слой к узлам выходного слоя для получения выходных данных. При этом, по мере распространения сигналов мы должны сглаживать их, используя весовые коэффициенты связей между соотвествующими узлами, а так же применять сигмоиду для уменьшения выходных сигналов узлов.\n",
    "\n",
    "## Тренировка сети:\n",
    "Задачу тренировки можно разделить на две части:\n",
    "- Первая часть - расчёт выходных сигналов для заданного тренировочного примера, это ничем не отличается от функции query().\n",
    "- Вторая часть - сравнение рассчитаных выходных сигналов с желаемым ответом и обновление весовых коэффициентов связей между узлами на основе найденных различий."
   ]
  },
  {
   "cell_type": "code",
   "execution_count": 2,
   "metadata": {},
   "outputs": [],
   "source": [
    "class neuralNetwork:\n",
    "    def __init__(self, inputnodes, hiddennodes, outputnodes, learningrate):\n",
    "        self.inodes = inputnodes\n",
    "        self.hnodes = hiddennodes\n",
    "        self.onodes = outputnodes\n",
    "        \n",
    "        # веса генерируются случайным образом\n",
    "        self.wih = numpy.random.normal(0.0, pow(self.inodes, -0.5), (self.hnodes, self.inodes))\n",
    "        self.who = numpy.random.normal(0.0, pow(self.hnodes, -0.5), (self.onodes, self.hnodes))\n",
    "\n",
    "        self.lr = learningrate\n",
    "        \n",
    "        self.activation_function = lambda x: scipy.special.expit(x)\n",
    "        \n",
    "        pass\n",
    "\n",
    "    \n",
    "    def train(self, inputs_list, targets_list):\n",
    "        inputs = numpy.array(inputs_list, ndmin=2).T\n",
    "        targets = numpy.array(targets_list, ndmin=2).T\n",
    "        \n",
    "        hidden_inputs = numpy.dot(self.wih, inputs)\n",
    "        hidden_outputs = self.activation_function(hidden_inputs)\n",
    "        \n",
    "        final_inputs = numpy.dot(self.who, hidden_outputs)\n",
    "        final_outputs = self.activation_function(final_inputs)\n",
    "        \n",
    "        output_errors = targets - final_outputs\n",
    "        hidden_errors = numpy.dot(self.who.T, output_errors) \n",
    "        \n",
    "        self.who += self.lr * numpy.dot((output_errors * final_outputs * (1.0 - final_outputs)), numpy.transpose(hidden_outputs))\n",
    "        \n",
    "        self.wih += self.lr * numpy.dot((hidden_errors * hidden_outputs * (1.0 - hidden_outputs)), numpy.transpose(inputs))\n",
    "        \n",
    "        pass\n",
    "\n",
    "    \n",
    "    def query(self, inputs_list):\n",
    "        inputs = numpy.array(inputs_list, ndmin=2).T\n",
    "        \n",
    "        hidden_inputs = numpy.dot(self.wih, inputs)\n",
    "        hidden_outputs = self.activation_function(hidden_inputs)\n",
    "        \n",
    "        final_inputs = numpy.dot(self.who, hidden_outputs)\n",
    "        final_outputs = self.activation_function(final_inputs)\n",
    "        \n",
    "        return final_outputs"
   ]
  },
  {
   "cell_type": "code",
   "execution_count": 3,
   "metadata": {},
   "outputs": [],
   "source": [
    "input_nodes = 784 #Изображение состоит из 28*28 = 784 пикселя \n",
    "hidden_nodes = 200 #Из тестов было обнаружено, что это число скрытых слоёв\n",
    "#является оптимальным\n",
    "output_nodes = 10 #Соотвествует десяти классам чисел, от 0 до 9\n",
    "\n",
    "learning_rate = 0.1 # Коэффициент обучения так же был опеределен исходя из тестов\n",
    "\n",
    "#создаём обьект нейрнной сети\n",
    "n = neuralNetwork(input_nodes,hidden_nodes,output_nodes, learning_rate)"
   ]
  },
  {
   "cell_type": "code",
   "execution_count": 4,
   "metadata": {},
   "outputs": [],
   "source": [
    "training_data_file = open(\"C:\\Program Files\\dataSets\\mnist_train.csv\", 'r')\n",
    "training_data_list = training_data_file.readlines()\n",
    "training_data_file.close()"
   ]
  },
  {
   "cell_type": "markdown",
   "metadata": {},
   "source": [
    "# Тренировка нейронной сети"
   ]
  },
  {
   "cell_type": "code",
   "execution_count": 5,
   "metadata": {},
   "outputs": [
    {
     "name": "stdout",
     "output_type": "stream",
     "text": [
      "1 Эпоха\n",
      "2 Эпоха\n",
      "3 Эпоха\n",
      "4 Эпоха\n",
      "5 Эпоха\n",
      "Тренировка Нейронной Сети Завершена успешно\n"
     ]
    }
   ],
   "source": [
    "epochs = 5\n",
    "\n",
    "for e in range(epochs):\n",
    "    print(e+1,\"Эпоха\")\n",
    "    for record in training_data_list:\n",
    "        all_values = record.split(',')\n",
    "        # scale and shift the inputs\n",
    "        inputs = (numpy.asfarray(all_values[1:]) / 255.0 * 0.99) + 0.01\n",
    "        targets = numpy.zeros(output_nodes) + 0.01\n",
    "        targets[int(all_values[0])] = 0.99\n",
    "        n.train(inputs, targets)\n",
    "        pass\n",
    "    pass\n",
    "print(\"Тренировка Нейронной Сети Завершена успешно\")"
   ]
  },
  {
   "cell_type": "code",
   "execution_count": 6,
   "metadata": {},
   "outputs": [],
   "source": [
    "test_data_file = open(\"C:\\Program Files\\dataSets\\mnist_test.csv\", 'r')\n",
    "test_data_list = test_data_file.readlines()\n",
    "test_data_file.close()"
   ]
  },
  {
   "cell_type": "markdown",
   "metadata": {},
   "source": [
    "# Опрос сети\n",
    "\n",
    "### для одного элемента"
   ]
  },
  {
   "cell_type": "code",
   "execution_count": 7,
   "metadata": {},
   "outputs": [
    {
     "name": "stdout",
     "output_type": "stream",
     "text": [
      "1\n"
     ]
    }
   ],
   "source": [
    "any_values = test_data_list[2].split(',')\n",
    "print(any_values[0])"
   ]
  },
  {
   "cell_type": "code",
   "execution_count": 8,
   "metadata": {},
   "outputs": [
    {
     "data": {
      "text/plain": [
       "<matplotlib.image.AxesImage at 0x24c896547f0>"
      ]
     },
     "execution_count": 8,
     "metadata": {},
     "output_type": "execute_result"
    },
    {
     "data": {
      "image/png": "[encoded data removed]",
      "text/plain": [
       "<Figure size 432x288 with 1 Axes>"
      ]
     },
     "metadata": {},
     "output_type": "display_data"
    }
   ],
   "source": [
    "image_array = numpy.asfarray(any_values[1:]).reshape((28,28))\n",
    "matplotlib.pyplot.imshow(image_array,cmap=\"Reds\",interpolation='None')"
   ]
  },
  {
   "cell_type": "code",
   "execution_count": 9,
   "metadata": {},
   "outputs": [
    {
     "data": {
      "text/plain": [
       "array([[0.00296522],\n",
       "       [0.99029214],\n",
       "       [0.00532403],\n",
       "       [0.01064196],\n",
       "       [0.01454573],\n",
       "       [0.01599217],\n",
       "       [0.00275677],\n",
       "       [0.0093822 ],\n",
       "       [0.00168888],\n",
       "       [0.00631992]])"
      ]
     },
     "execution_count": 9,
     "metadata": {},
     "output_type": "execute_result"
    }
   ],
   "source": [
    "#опрос для сети конкретного элемента\n",
    "n.query((numpy.asfarray(any_values[1:])/255.0*0.99)+0.01)\n"
   ]
  },
  {
   "cell_type": "markdown",
   "metadata": {},
   "source": [
    "`\n",
    "> видно что максимальное значение маркера принимает именно элемнент с индексом 1. Именно этого мы и ожидали\n",
    "`"
   ]
  },
  {
   "cell_type": "markdown",
   "metadata": {},
   "source": [
    "### для множества элементов"
   ]
  },
  {
   "cell_type": "code",
   "execution_count": 12,
   "metadata": {},
   "outputs": [
    {
     "name": "stdout",
     "output_type": "stream",
     "text": [
      "Тестирование прошло успешно\n"
     ]
    }
   ],
   "source": [
    "scorecard = []\n",
    "\n",
    "for record in test_data_list:\n",
    "    all_values = record.split(',')\n",
    "    correct_label = int(all_values[0])\n",
    "    inputs = (numpy.asfarray(all_values[1:]) / 255.0 * 0.99) + 0.01\n",
    "    outputs = n.query(inputs)\n",
    "    label = numpy.argmax(outputs)\n",
    "    if (label == correct_label):\n",
    "        scorecard.append(1)\n",
    "        \n",
    "    else:\n",
    "        scorecard.append(0)\n",
    "        pass\n",
    "    pass\n",
    "print(\"Тестирование прошло успешно\")"
   ]
  },
  {
   "cell_type": "code",
   "execution_count": 13,
   "metadata": {},
   "outputs": [
    {
     "name": "stdout",
     "output_type": "stream",
     "text": [
      "Эффективность работы нейронной сети =  0.9734\n"
     ]
    }
   ],
   "source": [
    "scorecard_array = numpy.asarray(scorecard)\n",
    "print (\"Эффективность работы нейронной сети = \", scorecard_array.sum() / scorecard_array.size)"
   ]
  },
  {
   "cell_type": "markdown",
   "metadata": {},
   "source": [
    "# Результат\n",
    "Рекорд точности составляет 0.9734 при 200 скрытых узлах. Времени на обработку: 21 минута. Это неплохо по сравнению с результатами эталлоных тестов, опубликованных на сайте Лекуна по адресу http://yann.lecun.com/exdb/mnist"
   ]
  },
  {
   "cell_type": "markdown",
   "metadata": {},
   "source": [
    "## Используемые материалы\n",
    "1. Тарик Рашид - Как создать свою нейронную сеть (2016г.)"
   ]
  },
  {
   "cell_type": "code",
   "execution_count": null,
   "metadata": {},
   "outputs": [],
   "source": []
  }
 ],
 "metadata": {
  "celltoolbar": "Raw Cell Format",
  "kernelspec": {
   "display_name": "Python 3",
   "language": "python",
   "name": "python3"
  },
  "language_info": {
   "codemirror_mode": {
    "name": "ipython",
    "version": 3
   },
   "file_extension": ".py",
   "mimetype": "text/x-python",
   "name": "python",
   "nbconvert_exporter": "python",
   "pygments_lexer": "ipython3",
   "version": "3.7.0"
  }
 },
 "nbformat": 4,
 "nbformat_minor": 1
}
